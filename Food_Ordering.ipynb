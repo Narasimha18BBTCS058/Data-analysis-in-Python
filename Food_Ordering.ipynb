{
  "nbformat": 4,
  "nbformat_minor": 0,
  "metadata": {
    "colab": {
      "name": "Food_Ordering.ipynb",
      "provenance": [],
      "authorship_tag": "ABX9TyO38ltdoQKKmgaO3fCJjLYq",
      "include_colab_link": true
    },
    "kernelspec": {
      "name": "python3",
      "display_name": "Python 3"
    },
    "language_info": {
      "name": "python"
    }
  },
  "cells": [
    {
      "cell_type": "markdown",
      "metadata": {
        "id": "view-in-github",
        "colab_type": "text"
      },
      "source": [
        "<a href=\"https://colab.research.google.com/github/Narasimha18BBTCS058/Data-analysis-in-Python/blob/main/Food_Ordering.ipynb\" target=\"_parent\"><img src=\"https://colab.research.google.com/assets/colab-badge.svg\" alt=\"Open In Colab\"/></a>"
      ]
    },
    {
      "cell_type": "code",
      "metadata": {
        "colab": {
          "base_uri": "https://localhost:8080/"
        },
        "id": "4tsukz6Bu_b8",
        "outputId": "f1457eba-365b-416d-85da-bb43e2475341"
      },
      "source": [
        "#Ques-write a python program for food delivery system\n",
        "\n",
        "menu = int(input(\"ORDER PLEASE\\n 1.Pizza\\n 2.Fries\\n 3.Burger\\nSelect Your Order\\t\"))\n",
        "if menu == 1:\n",
        "    print(\"\\n Pizza Rs.150 \")\n",
        "    confirm =int(input(\"\\nPress one to confirm.\"))\n",
        "    if confirm ==1:\n",
        "        print(\"\\nOrder confirmed\")\n",
        "    else:\n",
        "        print(\"Choose correct option\")\n",
        "\n",
        "elif menu == 2:\n",
        "    print(\"\\nFries Rs. 30\")\n",
        "    confirm = int(input(\"\\nPress one to confirm.\"))\n",
        "    if confirm == 1:\n",
        "        print(\"\\nOrder confirmed\")\n",
        "    else:\n",
        "        print(\"Choose correct option\")\n",
        "\n",
        "elif menu == 3:\n",
        "    print(\"Burger Rs.120\\n\")\n",
        "    confirm = int(input(\"\\n Press one to confirm\"))\n",
        "    if confirm == 1:\n",
        "        print(\"\\n Order confirmed\")\n",
        "    else:\n",
        "        print(\"Choose correct option\")\n",
        "else:\n",
        "  print(\"Wrong Choice!\")"
      ],
      "execution_count": null,
      "outputs": [
        {
          "output_type": "stream",
          "name": "stdout",
          "text": [
            "ORDER PLEASE\n",
            " 1.Pizza\n",
            " 2.Fries\n",
            " 3.Burger\n",
            "Select Your Order\t2\n",
            "\n",
            "Fries Rs. 30\n",
            "\n",
            "Press one to confirm.1\n",
            "\n",
            "Order confirmed\n"
          ]
        }
      ]
    }
  ]
}