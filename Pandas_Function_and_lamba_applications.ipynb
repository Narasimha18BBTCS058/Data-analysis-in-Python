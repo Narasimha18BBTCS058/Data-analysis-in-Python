{
  "nbformat": 4,
  "nbformat_minor": 0,
  "metadata": {
    "colab": {
      "name": "Pandas_Function and lamba applications.ipynb",
      "provenance": [],
      "authorship_tag": "ABX9TyMNVlBnqtAyhOspU9vSiiVz",
      "include_colab_link": true
    },
    "kernelspec": {
      "name": "python3",
      "display_name": "Python 3"
    },
    "language_info": {
      "name": "python"
    }
  },
  "cells": [
    {
      "cell_type": "markdown",
      "metadata": {
        "id": "view-in-github",
        "colab_type": "text"
      },
      "source": [
        "<a href=\"https://colab.research.google.com/github/Narasimha18BBTCS058/Data-analysis-in-Python/blob/main/Pandas_Function_and_lamba_applications.ipynb\" target=\"_parent\"><img src=\"https://colab.research.google.com/assets/colab-badge.svg\" alt=\"Open In Colab\"/></a>"
      ]
    },
    {
      "cell_type": "code",
      "metadata": {
        "colab": {
          "base_uri": "https://localhost:8080/"
        },
        "id": "0_HBYz-u4AlS",
        "outputId": "1c41ede2-b376-4e23-e3ef-03c93b04801b"
      },
      "source": [
        "import pandas as pd\n",
        "import numpy as np\n",
        "\n",
        "def adder(ele1,ele2):\n",
        "   return ele1+ele2\n",
        "\n",
        "df = pd.DataFrame(np.random.randn(5,3),columns=['col1','col2','col3'])\n",
        "print(df)\n",
        "print(\"printing the results of pipe\")\n",
        "print(df.pipe(adder,2))"
      ],
      "execution_count": null,
      "outputs": [
        {
          "output_type": "stream",
          "name": "stdout",
          "text": [
            "       col1      col2      col3\n",
            "0  0.591864 -0.435851 -0.274762\n",
            "1  0.791941  0.425064 -0.076110\n",
            "2  1.536629  0.846671 -0.026672\n",
            "3  1.042398 -0.561823 -2.048926\n",
            "4  3.017264  1.189365  1.073336\n",
            "printing the results of pipe\n",
            "       col1      col2      col3\n",
            "0  2.591864  1.564149  1.725238\n",
            "1  2.791941  2.425064  1.923890\n",
            "2  3.536629  2.846671  1.973328\n",
            "3  3.042398  1.438177 -0.048926\n",
            "4  5.017264  3.189365  3.073336\n"
          ]
        }
      ]
    },
    {
      "cell_type": "code",
      "metadata": {
        "colab": {
          "base_uri": "https://localhost:8080/"
        },
        "id": "rJKgEMeS4rRn",
        "outputId": "cf4b00f0-c859-4884-ef0f-0c15417d30af"
      },
      "source": [
        "import pandas as pd\n",
        "import numpy as np\n",
        "\n",
        "def adder(ele1,ele2):\n",
        "   return ele1+ele2\n",
        "\n",
        "df = pd.DataFrame(np.random.randn(5,3),columns=['col1','col2','col3'])\n",
        "print(df)\n",
        "\n",
        "print (df.apply(np.mean))"
      ],
      "execution_count": null,
      "outputs": [
        {
          "output_type": "stream",
          "name": "stdout",
          "text": [
            "       col1      col2      col3\n",
            "0  1.401713 -0.289858  1.235321\n",
            "1 -0.214190 -2.367352 -1.378470\n",
            "2  0.019042  0.796603 -1.265485\n",
            "3 -1.193696  1.910620  0.869948\n",
            "4 -0.725402 -0.247105 -0.597803\n",
            "col1   -0.142507\n",
            "col2   -0.039418\n",
            "col3   -0.227298\n",
            "dtype: float64\n"
          ]
        }
      ]
    },
    {
      "cell_type": "code",
      "metadata": {
        "colab": {
          "base_uri": "https://localhost:8080/"
        },
        "id": "GaZPxA3u4uou",
        "outputId": "e66d0f65-8b41-4951-942a-7dc8b6bb6d63"
      },
      "source": [
        "import pandas as pd\n",
        "import numpy as np\n",
        "\n",
        "df = pd.DataFrame(np.random.randn(5,3),columns=['col1','col2','col3'])\n",
        "print(df)\n",
        "\n",
        "print (df.apply(np.mean,axis=1))"
      ],
      "execution_count": null,
      "outputs": [
        {
          "output_type": "stream",
          "name": "stdout",
          "text": [
            "       col1      col2      col3\n",
            "0  0.593518 -0.382410  1.672841\n",
            "1  0.320127  0.947507  0.857591\n",
            "2  0.902352  0.107983 -1.410754\n",
            "3 -1.132600 -1.515225 -1.097842\n",
            "4 -1.554600  1.003760 -0.653362\n",
            "0    0.627983\n",
            "1    0.708408\n",
            "2   -0.133473\n",
            "3   -1.248556\n",
            "4   -0.401400\n",
            "dtype: float64\n"
          ]
        }
      ]
    },
    {
      "cell_type": "code",
      "metadata": {
        "colab": {
          "base_uri": "https://localhost:8080/"
        },
        "id": "AeyoslWe43m1",
        "outputId": "ae17f302-9c4d-443e-df2d-0605a5055096"
      },
      "source": [
        "import pandas as pd\n",
        "import numpy as np\n",
        "df = pd.DataFrame(np.random.randn(5,3),columns=['col1','col2','col3'])\n",
        "print(df)\n",
        "\n",
        "print(df['col1'].map(lambda x:x*100))"
      ],
      "execution_count": null,
      "outputs": [
        {
          "output_type": "stream",
          "name": "stdout",
          "text": [
            "       col1      col2      col3\n",
            "0 -0.461476 -0.952464 -0.274546\n",
            "1 -0.435104  1.925122 -0.681345\n",
            "2 -1.424064 -0.311215 -0.197979\n",
            "3  1.149334 -0.078605 -1.574756\n",
            "4  0.248641  0.095114 -0.019109\n",
            "0    -46.147585\n",
            "1    -43.510421\n",
            "2   -142.406358\n",
            "3    114.933353\n",
            "4     24.864143\n",
            "Name: col1, dtype: float64\n"
          ]
        }
      ]
    },
    {
      "cell_type": "code",
      "metadata": {
        "colab": {
          "base_uri": "https://localhost:8080/"
        },
        "id": "s1CLBGHz49j4",
        "outputId": "9eb71b9f-e21d-4cf8-9364-d5ed0b0a7cf9"
      },
      "source": [
        "df=pd.DataFrame({'id':[1,2,3,4,5],'name':['abc','defg','ghs','eeee','wwww'],'age':[11,22,33,44,55], 'income':[9999,8888,7777,6666,5555]})\n",
        "print(df)"
      ],
      "execution_count": null,
      "outputs": [
        {
          "output_type": "stream",
          "name": "stdout",
          "text": [
            "   id  name  age  income\n",
            "0   1   abc   11    9999\n",
            "1   2  defg   22    8888\n",
            "2   3   ghs   33    7777\n",
            "3   4  eeee   44    6666\n",
            "4   5  wwww   55    5555\n"
          ]
        }
      ]
    },
    {
      "cell_type": "code",
      "metadata": {
        "colab": {
          "base_uri": "https://localhost:8080/"
        },
        "id": "4v_R8sfv5Cta",
        "outputId": "5bc220d1-8876-4be7-bb05-9e74f2c2f8d2"
      },
      "source": [
        "df['age']=df.apply(lambda x: x['age']+3, axis=1)\n",
        "print(df)"
      ],
      "execution_count": null,
      "outputs": [
        {
          "output_type": "stream",
          "name": "stdout",
          "text": [
            "   id  name  age  income\n",
            "0   1   abc   14    9999\n",
            "1   2  defg   25    8888\n",
            "2   3   ghs   36    7777\n",
            "3   4  eeee   47    6666\n",
            "4   5  wwww   58    5555\n"
          ]
        }
      ]
    },
    {
      "cell_type": "code",
      "metadata": {
        "colab": {
          "base_uri": "https://localhost:8080/"
        },
        "id": "tleRau0V5JTH",
        "outputId": "4184b028-cdeb-4ab1-bcd8-a97f2476a854"
      },
      "source": [
        "list(filter(lambda x:x>18, df['age']))"
      ],
      "execution_count": null,
      "outputs": [
        {
          "output_type": "execute_result",
          "data": {
            "text/plain": [
              "[25, 36, 47, 58]"
            ]
          },
          "metadata": {},
          "execution_count": 7
        }
      ]
    },
    {
      "cell_type": "code",
      "metadata": {
        "colab": {
          "base_uri": "https://localhost:8080/"
        },
        "id": "mufVr3Mv5OwW",
        "outputId": "85f88735-f04d-49fe-c886-6fb639532ba2"
      },
      "source": [
        "df['income']=list(map(lambda x: int(x+x*0.2), df['income']))\n",
        "print(df)"
      ],
      "execution_count": null,
      "outputs": [
        {
          "output_type": "stream",
          "name": "stdout",
          "text": [
            "   id  name  age  income\n",
            "0   1   abc   14   11998\n",
            "1   2  defg   25   10665\n",
            "2   3   ghs   36    9332\n",
            "3   4  eeee   47    7999\n",
            "4   5  wwww   58    6666\n"
          ]
        }
      ]
    },
    {
      "cell_type": "code",
      "metadata": {
        "colab": {
          "base_uri": "https://localhost:8080/"
        },
        "id": "gIzDCD776Gq-",
        "outputId": "ee89e46a-c7d2-4f39-8343-d3c2a374f64d"
      },
      "source": [
        "import functools\n",
        "\n",
        "functools.reduce(lambda a,b: a+b, df['income'])"
      ],
      "execution_count": null,
      "outputs": [
        {
          "output_type": "execute_result",
          "data": {
            "text/plain": [
              "46660"
            ]
          },
          "metadata": {},
          "execution_count": 9
        }
      ]
    },
    {
      "cell_type": "code",
      "metadata": {
        "colab": {
          "base_uri": "https://localhost:8080/"
        },
        "id": "fUwGb5P26IqB",
        "outputId": "698b1c57-e68b-4761-c57d-ee49ea82fc63"
      },
      "source": [
        "df['category']=df['age'].apply(lambda x: 'Adult' if x>=18 else 'Child')\n",
        "print(df)"
      ],
      "execution_count": null,
      "outputs": [
        {
          "output_type": "stream",
          "name": "stdout",
          "text": [
            "   id  name  age  income category\n",
            "0   1   abc   14   11998    Child\n",
            "1   2  defg   25   10665    Adult\n",
            "2   3   ghs   36    9332    Adult\n",
            "3   4  eeee   47    7999    Adult\n",
            "4   5  wwww   58    6666    Adult\n"
          ]
        }
      ]
    }
  ]
}