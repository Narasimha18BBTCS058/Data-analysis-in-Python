{
  "nbformat": 4,
  "nbformat_minor": 5,
  "metadata": {
    "kernelspec": {
      "display_name": "Python 3",
      "language": "python",
      "name": "python3"
    },
    "language_info": {
      "codemirror_mode": {
        "name": "ipython",
        "version": 3
      },
      "file_extension": ".py",
      "mimetype": "text/x-python",
      "name": "python",
      "nbconvert_exporter": "python",
      "pygments_lexer": "ipython3",
      "version": "3.8.8"
    },
    "colab": {
      "name": "numpy.ipynb",
      "provenance": [],
      "include_colab_link": true
    }
  },
  "cells": [
    {
      "cell_type": "markdown",
      "metadata": {
        "id": "view-in-github",
        "colab_type": "text"
      },
      "source": [
        "<a href=\"https://colab.research.google.com/github/Narasimha18BBTCS058/Data-analysis-in-Python/blob/main/numpy.ipynb\" target=\"_parent\"><img src=\"https://colab.research.google.com/assets/colab-badge.svg\" alt=\"Open In Colab\"/></a>"
      ]
    },
    {
      "cell_type": "code",
      "metadata": {
        "id": "2d08d9ce",
        "outputId": "46b5291e-bb34-4c6c-ddf0-4486aafbbdc8"
      },
      "source": [
        "import numpy as npa \n",
        "npa= np.array([1, 2, 3])\n",
        "print(npa)"
      ],
      "id": "2d08d9ce",
      "execution_count": null,
      "outputs": [
        {
          "name": "stdout",
          "output_type": "stream",
          "text": [
            "[1 2 3]\n"
          ]
        }
      ]
    },
    {
      "cell_type": "code",
      "metadata": {
        "id": "941afc8f",
        "outputId": "c1c53bf9-683b-4fab-c938-af8fc9c889e8"
      },
      "source": [
        "import numpy as npp\n",
        "a = npp.array([[1 , 2, 3, 4], [5, 6, 7, 8], [9, 10, 11, 12]])\n",
        "print(a)"
      ],
      "id": "941afc8f",
      "execution_count": null,
      "outputs": [
        {
          "name": "stdout",
          "output_type": "stream",
          "text": [
            "[[ 1  2  3  4]\n",
            " [ 5  6  7  8]\n",
            " [ 9 10 11 12]]\n"
          ]
        }
      ]
    },
    {
      "cell_type": "code",
      "metadata": {
        "id": "7584a380",
        "outputId": "d951f6ac-121b-4799-8db2-c6a935ef131c"
      },
      "source": [
        "import numpy as np\n",
        "a=np.zeros(2)\n",
        "print(a)"
      ],
      "id": "7584a380",
      "execution_count": null,
      "outputs": [
        {
          "name": "stdout",
          "output_type": "stream",
          "text": [
            "[0. 0.]\n"
          ]
        }
      ]
    },
    {
      "cell_type": "code",
      "metadata": {
        "id": "7536046a",
        "outputId": "296b1c5a-78e2-404c-908b-35da64f6d32b"
      },
      "source": [
        "import numpy as np\n",
        "a=np.ones(4)\n",
        "print(a)"
      ],
      "id": "7536046a",
      "execution_count": null,
      "outputs": [
        {
          "name": "stdout",
          "output_type": "stream",
          "text": [
            "[1. 1. 1. 1.]\n"
          ]
        }
      ]
    },
    {
      "cell_type": "code",
      "metadata": {
        "id": "0b92a9c5",
        "outputId": "15da03a4-0e74-4f05-b4cb-1a0c90f1532f"
      },
      "source": [
        "import numpy as np\n",
        "ab=np.empty(4)\n",
        "print(ab)"
      ],
      "id": "0b92a9c5",
      "execution_count": null,
      "outputs": [
        {
          "name": "stdout",
          "output_type": "stream",
          "text": [
            "[1. 1. 1. 1.]\n"
          ]
        }
      ]
    },
    {
      "cell_type": "code",
      "metadata": {
        "id": "a9694ba3",
        "outputId": "e04d0cb0-7215-4a9a-b911-84a16345c43f"
      },
      "source": [
        "import numpy as np\n",
        "a=np.arange(7)\n",
        "print(a)"
      ],
      "id": "a9694ba3",
      "execution_count": null,
      "outputs": [
        {
          "name": "stdout",
          "output_type": "stream",
          "text": [
            "[0 1 2 3 4 5 6]\n"
          ]
        }
      ]
    },
    {
      "cell_type": "code",
      "metadata": {
        "id": "bb3a84f0",
        "outputId": "863dac71-e53c-417d-d251-ded90a36d831"
      },
      "source": [
        "import numpy as np\n",
        "a=np.arange(2,9,2)\n",
        "print(a)"
      ],
      "id": "bb3a84f0",
      "execution_count": null,
      "outputs": [
        {
          "name": "stdout",
          "output_type": "stream",
          "text": [
            "[2 4 6 8]\n"
          ]
        }
      ]
    },
    {
      "cell_type": "code",
      "metadata": {
        "id": "83f72ecc",
        "outputId": "748d3316-d3b6-43aa-f2df-99fc4b6866c3"
      },
      "source": [
        "y = np.ones(2, dtype=int)\n",
        "print(y)\n",
        "y"
      ],
      "id": "83f72ecc",
      "execution_count": null,
      "outputs": [
        {
          "name": "stdout",
          "output_type": "stream",
          "text": [
            "[1 1]\n"
          ]
        },
        {
          "data": {
            "text/plain": [
              "array([1, 1])"
            ]
          },
          "execution_count": 25,
          "metadata": {},
          "output_type": "execute_result"
        }
      ]
    },
    {
      "cell_type": "code",
      "metadata": {
        "id": "712f9bf9",
        "outputId": "9f2b1fa9-84b1-43dd-8af6-9e15b4fc6c70"
      },
      "source": [
        "arr = np.array([1, 2, 3, 4, 5, 6, 7, 8])\n",
        "print(arr)"
      ],
      "id": "712f9bf9",
      "execution_count": null,
      "outputs": [
        {
          "name": "stdout",
          "output_type": "stream",
          "text": [
            "[1 2 3 4 5 6 7 8]\n"
          ]
        }
      ]
    },
    {
      "cell_type": "code",
      "metadata": {
        "id": "e07d6ebf",
        "outputId": "2616b30b-af04-42b2-d5b6-eedaf5f05f52"
      },
      "source": [
        "a = np.array([1, 2, 3, 4, 5, 6, 7, 8])\n",
        "print(a)\n",
        "\n",
        "\n",
        "a=np.delete(a, 1)\n",
        "print(a)"
      ],
      "id": "e07d6ebf",
      "execution_count": null,
      "outputs": [
        {
          "name": "stdout",
          "output_type": "stream",
          "text": [
            "[1 2 3 4 5 6 7 8]\n",
            "[1 3 4 5 6 7 8]\n"
          ]
        }
      ]
    },
    {
      "cell_type": "code",
      "metadata": {
        "id": "d40b9748",
        "outputId": "8d5b7f36-350f-48b6-831f-dd3f46212eb0"
      },
      "source": [
        "a = np.array([19, 22, 34, 14, 55, 76, 47, 8])\n",
        "print(a)\n",
        "\n",
        "\n",
        "a=np.sort(a)\n",
        "print(a)"
      ],
      "id": "d40b9748",
      "execution_count": null,
      "outputs": [
        {
          "name": "stdout",
          "output_type": "stream",
          "text": [
            "[19 22 34 14 55 76 47  8]\n",
            "[ 8 14 19 22 34 47 55 76]\n"
          ]
        }
      ]
    },
    {
      "cell_type": "code",
      "metadata": {
        "id": "c353aedc",
        "outputId": "adab085c-8900-45c7-ea2c-0b50878e65d2"
      },
      "source": [
        "import numpy as np\n",
        "\n",
        "arr = np.array([[1, 2, 3], [4, 5, 6]])\n",
        "a=arr.ndim\n",
        "print(arr) \n",
        "print(\"dimensions = \", a)"
      ],
      "id": "c353aedc",
      "execution_count": null,
      "outputs": [
        {
          "name": "stdout",
          "output_type": "stream",
          "text": [
            "[[1 2 3]\n",
            " [4 5 6]]\n",
            "dimensions =  2\n"
          ]
        }
      ]
    },
    {
      "cell_type": "code",
      "metadata": {
        "id": "ae3fbb3d",
        "outputId": "77951c6c-1983-4c40-9b0d-a5401d7d2d71"
      },
      "source": [
        "import numpy as np\n",
        "\n",
        "arr = np.array([[[1, 2, 3], [4, 5, 6]], [[11, 22, 33], [44, 55, 66]]])\n",
        "a=arr.ndim\n",
        "b=arr.size\n",
        "print(arr) \n",
        "print(\"dimensions = \", a)\n",
        "print(\"size = \", b)\n"
      ],
      "id": "ae3fbb3d",
      "execution_count": null,
      "outputs": [
        {
          "name": "stdout",
          "output_type": "stream",
          "text": [
            "[[[ 1  2  3]\n",
            "  [ 4  5  6]]\n",
            "\n",
            " [[11 22 33]\n",
            "  [44 55 66]]]\n",
            "dimensions =  3\n",
            "size =  12\n"
          ]
        }
      ]
    },
    {
      "cell_type": "code",
      "metadata": {
        "id": "385f3420",
        "outputId": "1d877996-344c-4b7c-cfe9-c78722c2a7e3"
      },
      "source": [
        "import numpy as np\n",
        "\n",
        "a = np.array(42)\n",
        "b = np.array([1, 2, 3, 4, 5])\n",
        "c = np.array([[1, 2, 3], [4, 5, 6]])\n",
        "d = np.array([[[1, 2, 3], [4, 5, 6]], [[1, 2, 3], [4, 5, 6]]])\n",
        "\n",
        "print(a)\n",
        "print(\"dimension= \", a.ndim)\n",
        "print(b)\n",
        "print(\"dimension= \", b.ndim)\n",
        "print(c)\n",
        "print(\"dimension= \", c.ndim)\n",
        "print(d)\n",
        "print(\"dimension= \", d.ndim)\n"
      ],
      "id": "385f3420",
      "execution_count": null,
      "outputs": [
        {
          "name": "stdout",
          "output_type": "stream",
          "text": [
            "42\n",
            "dimension=  0\n",
            "[1 2 3 4 5]\n",
            "dimension=  1\n",
            "[[1 2 3]\n",
            " [4 5 6]]\n",
            "dimension=  2\n",
            "[[[1 2 3]\n",
            "  [4 5 6]]\n",
            "\n",
            " [[1 2 3]\n",
            "  [4 5 6]]]\n",
            "dimension=  3\n"
          ]
        }
      ]
    },
    {
      "cell_type": "code",
      "metadata": {
        "id": "301ac4c6",
        "outputId": "ef495670-c8bf-4b16-88a7-e46c8efbc88a"
      },
      "source": [
        "import numpy as np\n",
        "\n",
        "arr = np.array([[1, 2, 3, 4], [5, 6, 7, 8]])\n",
        "\n",
        "print(arr.shape) "
      ],
      "id": "301ac4c6",
      "execution_count": null,
      "outputs": [
        {
          "name": "stdout",
          "output_type": "stream",
          "text": [
            "(2, 4)\n"
          ]
        }
      ]
    },
    {
      "cell_type": "code",
      "metadata": {
        "id": "6a06420e",
        "outputId": "0483cd97-4490-46c1-eea2-32c121f9349e"
      },
      "source": [
        "a = np.arange(6)\n",
        "print(a)\n",
        "\n",
        "b = a.reshape(3,2)\n",
        "print(b)"
      ],
      "id": "6a06420e",
      "execution_count": null,
      "outputs": [
        {
          "name": "stdout",
          "output_type": "stream",
          "text": [
            "[0 1 2 3 4 5]\n",
            "[[0 1]\n",
            " [2 3]\n",
            " [4 5]]\n"
          ]
        }
      ]
    },
    {
      "cell_type": "code",
      "metadata": {
        "id": "a8d2d0c7"
      },
      "source": [
        ""
      ],
      "id": "a8d2d0c7",
      "execution_count": null,
      "outputs": []
    }
  ]
}