{
  "nbformat": 4,
  "nbformat_minor": 0,
  "metadata": {
    "colab": {
      "name": "Dictionaries.ipynb",
      "provenance": [],
      "authorship_tag": "ABX9TyN0YmeQyn8V9xNuyTWssIZT",
      "include_colab_link": true
    },
    "kernelspec": {
      "name": "python3",
      "display_name": "Python 3"
    },
    "language_info": {
      "name": "python"
    }
  },
  "cells": [
    {
      "cell_type": "markdown",
      "metadata": {
        "id": "view-in-github",
        "colab_type": "text"
      },
      "source": [
        "<a href=\"https://colab.research.google.com/github/Narasimha18BBTCS058/Data-analysis-in-Python/blob/main/Dictionaries.ipynb\" target=\"_parent\"><img src=\"https://colab.research.google.com/assets/colab-badge.svg\" alt=\"Open In Colab\"/></a>"
      ]
    },
    {
      "cell_type": "code",
      "metadata": {
        "colab": {
          "base_uri": "https://localhost:8080/"
        },
        "id": "ki_cXFbW0X03",
        "outputId": "d4bc5c7b-6cc2-41e5-c49d-c411dcb739da"
      },
      "source": [
        "dict={'name':'prithvi','designation':'AsP','qual':'phd','univ':'cmr'}\n",
        "print(dict['name'])\n",
        "print(dict['qual'])"
      ],
      "execution_count": 1,
      "outputs": [
        {
          "output_type": "stream",
          "name": "stdout",
          "text": [
            "prithvi\n",
            "phd\n"
          ]
        }
      ]
    },
    {
      "cell_type": "code",
      "metadata": {
        "colab": {
          "base_uri": "https://localhost:8080/"
        },
        "id": "OGrhgoO41LEH",
        "outputId": "c0070ec9-c2be-41ec-c998-e264a4c80d4d"
      },
      "source": [
        "dict={'name':'prithvi','designation':'AsP','qual':'phd','univ':'cmr'}\n",
        "\n",
        "dict['name']='cynthya'\n",
        "\n",
        "print(dict['name'])\n",
        "\n",
        "dict['class']='cse7sem'\n",
        "\n",
        "print(dict['class'])"
      ],
      "execution_count": 2,
      "outputs": [
        {
          "output_type": "stream",
          "name": "stdout",
          "text": [
            "cynthya\n",
            "cse7sem\n"
          ]
        }
      ]
    },
    {
      "cell_type": "code",
      "metadata": {
        "id": "I2ozOuWZ1TrF"
      },
      "source": [
        "dict={'name':'prithvi','designation':'AsP','qual':'phd','univ':'cmr'}\n",
        "\n",
        "del dict['designation']\n",
        "\n",
        "#print(dict['designation'])\n",
        "\n",
        "dict.clear()\n",
        "\n",
        "#print(dict['name'])\n",
        "\n",
        "del dict"
      ],
      "execution_count": 3,
      "outputs": []
    },
    {
      "cell_type": "code",
      "metadata": {
        "colab": {
          "base_uri": "https://localhost:8080/"
        },
        "id": "V6hnW7F51Yfs",
        "outputId": "0247a865-075e-4f99-bbb5-9798270d5db6"
      },
      "source": [
        "dict={'name':'prithvi','designation':'AsP','qual':'phd','univ':'cmr', 'name':'Nishitha'}\n",
        "\n",
        "\n",
        "print(dict['name'])\n",
        "\n",
        "print(len(dict))"
      ],
      "execution_count": 4,
      "outputs": [
        {
          "output_type": "stream",
          "name": "stdout",
          "text": [
            "Nishitha\n",
            "4\n"
          ]
        }
      ]
    },
    {
      "cell_type": "code",
      "metadata": {
        "colab": {
          "base_uri": "https://localhost:8080/"
        },
        "id": "Y2TqK5rM1k39",
        "outputId": "38d6a87e-0267-497d-a94e-bedcac700551"
      },
      "source": [
        "dict={'name':'prithvi','designation':'AsP','qual':'phd','univ':'cmr', 'name':'Nishitha'}\n",
        "\n",
        "\n",
        "print(dict.values())\n",
        "\n",
        "print(dict.items())\n",
        "\n",
        "print(dict.keys())"
      ],
      "execution_count": 5,
      "outputs": [
        {
          "output_type": "stream",
          "name": "stdout",
          "text": [
            "dict_values(['Nishitha', 'AsP', 'phd', 'cmr'])\n",
            "dict_items([('name', 'Nishitha'), ('designation', 'AsP'), ('qual', 'phd'), ('univ', 'cmr')])\n",
            "dict_keys(['name', 'designation', 'qual', 'univ'])\n"
          ]
        }
      ]
    },
    {
      "cell_type": "code",
      "metadata": {
        "colab": {
          "base_uri": "https://localhost:8080/"
        },
        "id": "vKWReLJi1tma",
        "outputId": "4da8c1de-bfe2-4a6e-f8ac-4ddb40b9c3cb"
      },
      "source": [
        "dict={'name':'prithvi','designation':'AsP','qual':'phd','univ':'cmr', 'name':'Nishitha'}\n",
        "\n",
        "\n",
        "print(dict['name'])\n",
        "\n",
        "print(dict.get('edu',\"nothing\"))\n"
      ],
      "execution_count": 6,
      "outputs": [
        {
          "output_type": "stream",
          "name": "stdout",
          "text": [
            "Nishitha\n",
            "nothing\n"
          ]
        }
      ]
    },
    {
      "cell_type": "code",
      "metadata": {
        "colab": {
          "base_uri": "https://localhost:8080/"
        },
        "id": "MJQwqybd2BxP",
        "outputId": "b736acf6-e150-4557-967b-445f426b1be3"
      },
      "source": [
        "dict={'name':'prithvi','designation':'AsP','qual':'phd','univ':'cmr', 'name':'Cynthya'}\n",
        "\n",
        "\n",
        "dict2=dict.copy()\n",
        "\n",
        "print(dict2['name'])\n",
        "\n",
        "print(len(dict2))"
      ],
      "execution_count": 7,
      "outputs": [
        {
          "output_type": "stream",
          "name": "stdout",
          "text": [
            "Cynthya\n",
            "4\n"
          ]
        }
      ]
    },
    {
      "cell_type": "code",
      "metadata": {
        "colab": {
          "base_uri": "https://localhost:8080/"
        },
        "id": "AmrP1ipX2J3u",
        "outputId": "91bca4ad-6625-4250-d5e6-f65cb8205c61"
      },
      "source": [
        "dict={'name':'prithvi','designation':'AsP','qual':'phd','univ':'cmr', 'name':'cynthya'}\n",
        "\n",
        "\n",
        "dict2={'edu':'btech-mtech','students':'7sem'}\n",
        "\n",
        "print(dict)\n",
        "print(dict2)\n",
        "\n",
        "dict.update(dict2)\n",
        "\n",
        "print(dict)"
      ],
      "execution_count": 8,
      "outputs": [
        {
          "output_type": "stream",
          "name": "stdout",
          "text": [
            "{'name': 'cynthya', 'designation': 'AsP', 'qual': 'phd', 'univ': 'cmr'}\n",
            "{'edu': 'btech-mtech', 'students': '7sem'}\n",
            "{'name': 'cynthya', 'designation': 'AsP', 'qual': 'phd', 'univ': 'cmr', 'edu': 'btech-mtech', 'students': '7sem'}\n"
          ]
        }
      ]
    }
  ]
}