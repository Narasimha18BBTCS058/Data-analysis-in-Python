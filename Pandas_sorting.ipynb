{
  "nbformat": 4,
  "nbformat_minor": 0,
  "metadata": {
    "colab": {
      "name": "Pandas_sorting.ipynb",
      "provenance": [],
      "authorship_tag": "ABX9TyMW3RERYsmP6brNODVabQ5Z",
      "include_colab_link": true
    },
    "kernelspec": {
      "name": "python3",
      "display_name": "Python 3"
    },
    "language_info": {
      "name": "python"
    }
  },
  "cells": [
    {
      "cell_type": "markdown",
      "metadata": {
        "id": "view-in-github",
        "colab_type": "text"
      },
      "source": [
        "<a href=\"https://colab.research.google.com/github/Narasimha18BBTCS058/Data-analysis-in-Python/blob/main/Pandas_sorting.ipynb\" target=\"_parent\"><img src=\"https://colab.research.google.com/assets/colab-badge.svg\" alt=\"Open In Colab\"/></a>"
      ]
    },
    {
      "cell_type": "code",
      "metadata": {
        "colab": {
          "base_uri": "https://localhost:8080/"
        },
        "id": "8uMUBrDJDPw4",
        "outputId": "fb7e626e-2687-45f3-db23-92cadd7bcde7"
      },
      "source": [
        "import pandas as pd\n",
        "import numpy as np\n",
        "unsorted_df=pd.DataFrame(np.random.randn(10,2),index=[1,4,6,2,3,5,9,8,0,7],columns=['col2','col1'])\n",
        "print(unsorted_df)"
      ],
      "execution_count": null,
      "outputs": [
        {
          "output_type": "stream",
          "name": "stdout",
          "text": [
            "       col2      col1\n",
            "1  0.442473  0.687245\n",
            "4  1.227890  0.120459\n",
            "6 -0.677933 -0.123883\n",
            "2 -0.442761  2.189254\n",
            "3  0.578079  0.672394\n",
            "5  0.105139 -0.213919\n",
            "9 -0.638435  0.600393\n",
            "8  0.510853  0.962033\n",
            "0  1.234341 -0.375527\n",
            "7 -0.792373  0.133049\n"
          ]
        }
      ]
    },
    {
      "cell_type": "code",
      "metadata": {
        "colab": {
          "base_uri": "https://localhost:8080/"
        },
        "id": "JqEVtHd-E5lw",
        "outputId": "979b3fd2-f518-435b-d380-637d386c3e73"
      },
      "source": [
        "import pandas as pd\n",
        "import numpy as np\n",
        "unsorted_df = pd.DataFrame(np.random.randn(10,2),index=[1,4,6,2,3,5,9,8,0,7],columns = ['col2','col1'])\n",
        "sorted_df=unsorted_df.sort_index()\n",
        "print (sorted_df)"
      ],
      "execution_count": null,
      "outputs": [
        {
          "output_type": "stream",
          "name": "stdout",
          "text": [
            "       col2      col1\n",
            "0 -0.784464 -0.115576\n",
            "1 -1.826457 -0.321851\n",
            "2  0.774866  0.311965\n",
            "3 -1.764437 -1.021384\n",
            "4  0.872475 -0.412012\n",
            "5  1.474231  0.566103\n",
            "6 -0.127679  0.450229\n",
            "7  0.282502  1.316165\n",
            "8 -0.431304  1.108851\n",
            "9  2.002961  0.019305\n"
          ]
        }
      ]
    },
    {
      "cell_type": "code",
      "metadata": {
        "colab": {
          "base_uri": "https://localhost:8080/"
        },
        "id": "Cl73c78kFIE7",
        "outputId": "43a2929d-d113-4d53-b339-fd4fac858496"
      },
      "source": [
        "import pandas as pd\n",
        "import numpy as np\n",
        "unsorted_df = pd.DataFrame(np.random.randn(10,2),index=[1,4,6,2,3,5,9,8,0,7],columns = ['col2','col1'])\n",
        "sorted_df = unsorted_df.sort_index(ascending=False)\n",
        "print (sorted_df)"
      ],
      "execution_count": null,
      "outputs": [
        {
          "output_type": "stream",
          "name": "stdout",
          "text": [
            "       col2      col1\n",
            "9  1.521664  0.046497\n",
            "8  0.916306  0.608107\n",
            "7 -0.244071  0.113814\n",
            "6 -0.726391 -0.805688\n",
            "5  1.309956 -0.687474\n",
            "4  1.296872 -0.456699\n",
            "3 -0.084609  0.363823\n",
            "2 -0.866108 -0.572222\n",
            "1 -0.146181 -0.660500\n",
            "0 -0.767448 -0.446465\n"
          ]
        }
      ]
    },
    {
      "cell_type": "code",
      "metadata": {
        "colab": {
          "base_uri": "https://localhost:8080/"
        },
        "id": "e-31CN5sFS4Z",
        "outputId": "1a50fd24-2bca-479f-da9d-585ac5c8685e"
      },
      "source": [
        "import pandas as pd\n",
        "import numpy as np\n",
        "unsorted_df = pd.DataFrame(np.random.randn(10,2),index=[1,4,6,2,3,5,9,8,0,7],columns = ['col2','col1'])\n",
        "sorted_df=unsorted_df.sort_index(axis=1)\n",
        "print (sorted_df)"
      ],
      "execution_count": null,
      "outputs": [
        {
          "output_type": "stream",
          "name": "stdout",
          "text": [
            "       col1      col2\n",
            "1  0.785270 -1.065924\n",
            "4 -1.823530  0.070100\n",
            "6  1.084785 -1.080475\n",
            "2 -0.547480  3.440314\n",
            "3  1.613544  0.916088\n",
            "5  1.444505 -0.055811\n",
            "9 -0.798803 -0.004797\n",
            "8 -0.341880 -0.741179\n",
            "0  1.369813  0.543915\n",
            "7 -0.298354  0.769087\n"
          ]
        }
      ]
    },
    {
      "cell_type": "code",
      "metadata": {
        "colab": {
          "base_uri": "https://localhost:8080/"
        },
        "id": "H4NWOqNGFdDp",
        "outputId": "bb633fc8-3066-411f-9fe4-48155bebf78f"
      },
      "source": [
        "import pandas as pd\n",
        "import numpy as np\n",
        "\n",
        "unsorted_df = pd.DataFrame({'col1':[2,1,1,1],'col2':[1,3,2,4]})\n",
        "sorted_df = unsorted_df.sort_values(by='col1')\n",
        "\n",
        "print (sorted_df)"
      ],
      "execution_count": null,
      "outputs": [
        {
          "output_type": "stream",
          "name": "stdout",
          "text": [
            "   col1  col2\n",
            "1     1     3\n",
            "2     1     2\n",
            "3     1     4\n",
            "0     2     1\n"
          ]
        }
      ]
    },
    {
      "cell_type": "code",
      "metadata": {
        "colab": {
          "base_uri": "https://localhost:8080/"
        },
        "id": "YOuD0KFNG_47",
        "outputId": "f9f82459-9504-491c-a3ac-594ad00ffb63"
      },
      "source": [
        "import pandas as pd\n",
        "import numpy as np\n",
        "\n",
        "unsorted_df = pd.DataFrame({'col1':[2,1,1,1],'col2':[1,3,2,4]})\n",
        "sorted_df = unsorted_df.sort_values(by=['col1','col2'])\n",
        "\n",
        "print (sorted_df)"
      ],
      "execution_count": null,
      "outputs": [
        {
          "output_type": "stream",
          "name": "stdout",
          "text": [
            "   col1  col2\n",
            "2     1     2\n",
            "1     1     3\n",
            "3     1     4\n",
            "0     2     1\n"
          ]
        }
      ]
    },
    {
      "cell_type": "code",
      "metadata": {
        "colab": {
          "base_uri": "https://localhost:8080/"
        },
        "id": "vbin0ADDHEKU",
        "outputId": "3b0f73e3-176e-40fc-ff32-3e12ee19e33a"
      },
      "source": [
        "import pandas as pd\n",
        "import numpy as np\n",
        "\n",
        "unsorted_df = pd.DataFrame({'col1':[2,1,1,1],'col2':[1,3,2,4]})\n",
        "sorted_df = unsorted_df.sort_values(by='col1' ,kind='mergesort')\n",
        "\n",
        "print (sorted_df)"
      ],
      "execution_count": null,
      "outputs": [
        {
          "output_type": "stream",
          "name": "stdout",
          "text": [
            "   col1  col2\n",
            "1     1     3\n",
            "2     1     2\n",
            "3     1     4\n",
            "0     2     1\n"
          ]
        }
      ]
    }
  ]
}