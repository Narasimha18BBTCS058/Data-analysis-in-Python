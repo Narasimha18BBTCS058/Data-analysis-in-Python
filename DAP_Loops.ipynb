{
  "nbformat": 4,
  "nbformat_minor": 0,
  "metadata": {
    "colab": {
      "name": "DAP_Loops.ipynb",
      "provenance": [],
      "authorship_tag": "ABX9TyMtGlztPz0SALKXA+8ST3hJ",
      "include_colab_link": true
    },
    "kernelspec": {
      "display_name": "Python 3",
      "name": "python3"
    },
    "language_info": {
      "name": "python"
    }
  },
  "cells": [
    {
      "cell_type": "markdown",
      "metadata": {
        "id": "view-in-github",
        "colab_type": "text"
      },
      "source": [
        "<a href=\"https://colab.research.google.com/github/Narasimha18BBTCS058/Data-analysis-in-Python/blob/main/DAP_Loops.ipynb\" target=\"_parent\"><img src=\"https://colab.research.google.com/assets/colab-badge.svg\" alt=\"Open In Colab\"/></a>"
      ]
    },
    {
      "cell_type": "code",
      "metadata": {
        "colab": {
          "base_uri": "https://localhost:8080/"
        },
        "id": "rJLuMRiFQZZ-",
        "outputId": "5fab2656-9a75-4b81-9056-9cdf5135fe84"
      },
      "source": [
        "    str = \"Prithvi\"  \n",
        "    for i in str:  \n",
        "        print(i) "
      ],
      "execution_count": 1,
      "outputs": [
        {
          "output_type": "stream",
          "name": "stdout",
          "text": [
            "P\n",
            "r\n",
            "i\n",
            "t\n",
            "h\n",
            "v\n",
            "i\n"
          ]
        }
      ]
    },
    {
      "cell_type": "code",
      "metadata": {
        "id": "fc-14B4iReS7",
        "colab": {
          "base_uri": "https://localhost:8080/"
        },
        "outputId": "8b63b8b4-5dca-4cde-fb0d-bc2e1f767554"
      },
      "source": [
        "    list = [1,2,3,4,5,6,7,8,9,10]  \n",
        "    n = 6 \n",
        "    for i in list:  \n",
        "        c = n*i  \n",
        "        print(n,\" *\",i, \" =\", c)"
      ],
      "execution_count": null,
      "outputs": [
        {
          "output_type": "stream",
          "name": "stdout",
          "text": [
            "6  * 1  = 6\n",
            "6  * 2  = 12\n",
            "6  * 3  = 18\n",
            "6  * 4  = 24\n",
            "6  * 5  = 30\n",
            "6  * 6  = 36\n",
            "6  * 7  = 42\n",
            "6  * 8  = 48\n",
            "6  * 9  = 54\n",
            "6  * 10  = 60\n"
          ]
        }
      ]
    },
    {
      "cell_type": "code",
      "metadata": {
        "colab": {
          "base_uri": "https://localhost:8080/"
        },
        "id": "noQ5gwRdRi8i",
        "outputId": "d9a070ca-0e97-4d9f-876c-250f1b8c0081"
      },
      "source": [
        "    list = [10,30,23,43,65,12]  \n",
        "    sum = 0  \n",
        "    for i in list:  \n",
        "        sum = sum+i  \n",
        "    print(\"The sum is:\",sum)"
      ],
      "execution_count": null,
      "outputs": [
        {
          "output_type": "stream",
          "name": "stdout",
          "text": [
            "The sum is: 183\n"
          ]
        }
      ]
    },
    {
      "cell_type": "code",
      "metadata": {
        "id": "1Xnilqj9-6L3"
      },
      "source": [
        ""
      ],
      "execution_count": null,
      "outputs": []
    },
    {
      "cell_type": "code",
      "metadata": {
        "colab": {
          "base_uri": "https://localhost:8080/"
        },
        "id": "W5md1d2lRsMz",
        "outputId": "478ce4e6-36e5-464b-827b-9d8683dbc65c"
      },
      "source": [
        "    for i in range(14):  \n",
        "        print(i,end=' ') "
      ],
      "execution_count": null,
      "outputs": [
        {
          "name": "stdout",
          "output_type": "stream",
          "text": [
            "0 1 2 3 4 5 6 7 8 9 10 11 12 13 "
          ]
        }
      ]
    },
    {
      "cell_type": "code",
      "metadata": {
        "colab": {
          "base_uri": "https://localhost:8080/"
        },
        "id": "uS2zP6mSRwiT",
        "outputId": "cb9fa3df-ca28-44b1-ee81-680e35f2e8f0"
      },
      "source": [
        "    n = int(input(\"Enter the number \"))  \n",
        "    for i in range(1,11):  \n",
        "        c = n*i  \n",
        "        print(n,\"*\",i,\"=\",c)"
      ],
      "execution_count": null,
      "outputs": [
        {
          "name": "stdout",
          "output_type": "stream",
          "text": [
            "Enter the number 25\n",
            "25 * 1 = 25\n",
            "25 * 2 = 50\n",
            "25 * 3 = 75\n",
            "25 * 4 = 100\n",
            "25 * 5 = 125\n",
            "25 * 6 = 150\n",
            "25 * 7 = 175\n",
            "25 * 8 = 200\n",
            "25 * 9 = 225\n",
            "25 * 10 = 250\n"
          ]
        }
      ]
    },
    {
      "cell_type": "code",
      "metadata": {
        "colab": {
          "base_uri": "https://localhost:8080/"
        },
        "id": "wvnNKp2gR3Xb",
        "outputId": "2d966ba2-eef4-4195-ede7-41227cf8e854"
      },
      "source": [
        "    n = int(input(\"Enter the number \"))  \n",
        "    for i in range(2,n,2):  \n",
        "        print(i)"
      ],
      "execution_count": null,
      "outputs": [
        {
          "output_type": "stream",
          "name": "stdout",
          "text": [
            "Enter the number 10\n",
            "2\n",
            "4\n",
            "6\n",
            "8\n"
          ]
        }
      ]
    },
    {
      "cell_type": "code",
      "metadata": {
        "colab": {
          "base_uri": "https://localhost:8080/"
        },
        "id": "_0AeEBMFSJek",
        "outputId": "66d7dc28-1b0b-41d5-b428-965923004089"
      },
      "source": [
        "    list = ['Peter','prithvi','Ricky','Devansh']  \n",
        "    for i in range(len(list)):  \n",
        "        print(\"Hello\",list[i])"
      ],
      "execution_count": 2,
      "outputs": [
        {
          "output_type": "stream",
          "name": "stdout",
          "text": [
            "Hello Peter\n",
            "Hello prithvi\n",
            "Hello Ricky\n",
            "Hello Devansh\n"
          ]
        }
      ]
    },
    {
      "cell_type": "code",
      "metadata": {
        "colab": {
          "base_uri": "https://localhost:8080/"
        },
        "id": "fH_A9cABSXgB",
        "outputId": "7acfe445-8969-4e7b-838d-d5afef1d73de"
      },
      "source": [
        "    for i in range(0,4):    \n",
        "        print(i)    \n",
        "    else:  \n",
        "        print(\"for loop completely exhausted, since there is no break.\")"
      ],
      "execution_count": null,
      "outputs": [
        {
          "output_type": "stream",
          "name": "stdout",
          "text": [
            "0\n",
            "1\n",
            "2\n",
            "3\n",
            "for loop completely exhausted, since there is no break.\n"
          ]
        }
      ]
    },
    {
      "cell_type": "code",
      "metadata": {
        "colab": {
          "base_uri": "https://localhost:8080/"
        },
        "id": "Wm0Q31edSa85",
        "outputId": "0165fb68-8a92-45ad-e09a-d7e653681240"
      },
      "source": [
        "    for i in range(0,2):    \n",
        "        print(i)    \n",
        "        print(\"bye\")\n",
        "        continue;    \n",
        "        print(\"hello\")\n",
        "    else:print(\"for loop is exhausted\");    \n",
        "    print(\"The loop is broken due to break statement...came out of the loop\")"
      ],
      "execution_count": null,
      "outputs": [
        {
          "output_type": "stream",
          "name": "stdout",
          "text": [
            "0\n",
            "bye\n",
            "1\n",
            "bye\n",
            "for loop is exhausted\n",
            "The loop is broken due to break statement...came out of the loop\n"
          ]
        }
      ]
    },
    {
      "cell_type": "code",
      "metadata": {
        "colab": {
          "base_uri": "https://localhost:8080/"
        },
        "id": "OklViYYVSgxm",
        "outputId": "56abd1ed-7613-4c51-b160-bb583f839359"
      },
      "source": [
        "    # prints all letters except 'a' and 't'   \n",
        "    i = 0  \n",
        "    str1 = 'prithvi'  \n",
        "    print(str1)\n",
        "    while i < len(str1):\n",
        "        print('entered while loop before if statement')\n",
        "        if str1[i] == 'a' or str1[i] == 'u':   \n",
        "            print('entered if statement')\n",
        "            i += 1  \n",
        "            print('i incremented')\n",
        "            continue  \n",
        "            print('after continue')\n",
        "        print('Current Letter :', str1[i])   \n",
        "        i += 1 \n",
        "        print('going back to starting of while loop')"
      ],
      "execution_count": 3,
      "outputs": [
        {
          "output_type": "stream",
          "name": "stdout",
          "text": [
            "prithvi\n",
            "entered while loop before if statement\n",
            "Current Letter : p\n",
            "going back to starting of while loop\n",
            "entered while loop before if statement\n",
            "Current Letter : r\n",
            "going back to starting of while loop\n",
            "entered while loop before if statement\n",
            "Current Letter : i\n",
            "going back to starting of while loop\n",
            "entered while loop before if statement\n",
            "Current Letter : t\n",
            "going back to starting of while loop\n",
            "entered while loop before if statement\n",
            "Current Letter : h\n",
            "going back to starting of while loop\n",
            "entered while loop before if statement\n",
            "Current Letter : v\n",
            "going back to starting of while loop\n",
            "entered while loop before if statement\n",
            "Current Letter : i\n",
            "going back to starting of while loop\n"
          ]
        }
      ]
    },
    {
      "cell_type": "code",
      "metadata": {
        "colab": {
          "base_uri": "https://localhost:8080/"
        },
        "id": "kFOJCD0hSrN6",
        "outputId": "1632c3cf-0ee9-4c2f-e326-f1c0c4cb7330"
      },
      "source": [
        "i = 0  \n",
        "str1 = 'prithvi'   \n",
        "while i < len(str1):   \n",
        "    if str1[i] == 'n':   \n",
        "        i += 1  \n",
        "        break  \n",
        "    print('Current Letter :', str1[i])   \n",
        "    i += 1"
      ],
      "execution_count": 4,
      "outputs": [
        {
          "output_type": "stream",
          "name": "stdout",
          "text": [
            "Current Letter : p\n",
            "Current Letter : r\n",
            "Current Letter : i\n",
            "Current Letter : t\n",
            "Current Letter : h\n",
            "Current Letter : v\n",
            "Current Letter : i\n"
          ]
        }
      ]
    },
    {
      "cell_type": "code",
      "metadata": {
        "colab": {
          "base_uri": "https://localhost:8080/"
        },
        "id": "kAuWkbnAS0oY",
        "outputId": "7d80e16b-1cde-4745-c201-7800fbf9f7df"
      },
      "source": [
        "#The pass statement is used to declare the empty loop. \n",
        "#It is also used to define empty class, function, and control statement.\n",
        "\n",
        "str1 = 'prithvi'  \n",
        "i = 0    \n",
        "while i < len(str1):   \n",
        "    i += 1  \n",
        "    pass  \n",
        "print('Value of i :', i)"
      ],
      "execution_count": 5,
      "outputs": [
        {
          "output_type": "stream",
          "name": "stdout",
          "text": [
            "Value of i : 7\n"
          ]
        }
      ]
    },
    {
      "cell_type": "code",
      "metadata": {
        "colab": {
          "base_uri": "https://localhost:8080/"
        },
        "id": "iLZPhPu3S-qK",
        "outputId": "cdf03e70-9c29-45a2-e115-744ab76ff6be"
      },
      "source": [
        "    i=1  \n",
        "    #The while loop will iterate until condition becomes false.  \n",
        "    while(i<=10):    \n",
        "        print(i)   \n",
        "        i=i+1   "
      ],
      "execution_count": null,
      "outputs": [
        {
          "name": "stdout",
          "output_type": "stream",
          "text": [
            "1\n",
            "2\n",
            "3\n",
            "4\n",
            "5\n",
            "6\n",
            "7\n",
            "8\n",
            "9\n",
            "10\n"
          ]
        }
      ]
    },
    {
      "cell_type": "code",
      "metadata": {
        "colab": {
          "base_uri": "https://localhost:8080/"
        },
        "id": "LUM06iK7TGCm",
        "outputId": "a8a45c4a-f6e4-46d8-c71a-64ce4ff5b461"
      },
      "source": [
        "    i=1    \n",
        "    number = int(input(\"Enter the number:\"))    \n",
        "    while i<=10:    \n",
        "        print(\"%d X %d = %d \\n\"%(number,i,number*i))    \n",
        "        i = i+1"
      ],
      "execution_count": null,
      "outputs": [
        {
          "name": "stdout",
          "output_type": "stream",
          "text": [
            "Enter the number:25\n",
            "25 X 1 = 25 \n",
            "\n",
            "25 X 2 = 50 \n",
            "\n",
            "25 X 3 = 75 \n",
            "\n",
            "25 X 4 = 100 \n",
            "\n",
            "25 X 5 = 125 \n",
            "\n",
            "25 X 6 = 150 \n",
            "\n",
            "25 X 7 = 175 \n",
            "\n",
            "25 X 8 = 200 \n",
            "\n",
            "25 X 9 = 225 \n",
            "\n",
            "25 X 10 = 250 \n",
            "\n"
          ]
        }
      ]
    },
    {
      "cell_type": "code",
      "metadata": {
        "colab": {
          "background_save": true,
          "base_uri": "https://localhost:8080/"
        },
        "id": "r_gcn8m_TaUk",
        "outputId": "52a47718-7217-41af-fc02-dfb68797e2f7"
      },
      "source": [
        "      var = 1    \n",
        "      while(var != 2):    \n",
        "        i = int(input(\"Enter the number:\"))    \n",
        "        print(\"Entered value is %d\"%(i))"
      ],
      "execution_count": null,
      "outputs": [
        {
          "name": "stdout",
          "output_type": "stream",
          "text": [
            "Entered value is 12\n"
          ]
        }
      ]
    },
    {
      "cell_type": "code",
      "metadata": {
        "id": "0BULBdFdT4Go",
        "colab": {
          "base_uri": "https://localhost:8080/"
        },
        "outputId": "e3fd53b5-127b-4518-e414-551de627c2a6"
      },
      "source": [
        "i=1   \n",
        "while(i<=5):    \n",
        "    print(i)    \n",
        "    i=i+1    \n",
        "else:  \n",
        "    print(\"The while loop exhausted\")"
      ],
      "execution_count": null,
      "outputs": [
        {
          "output_type": "stream",
          "name": "stdout",
          "text": [
            "1\n",
            "2\n",
            "3\n",
            "4\n",
            "5\n",
            "The while loop exhausted\n"
          ]
        }
      ]
    },
    {
      "cell_type": "code",
      "metadata": {
        "id": "Nd70bnJUU1Ut",
        "colab": {
          "base_uri": "https://localhost:8080/"
        },
        "outputId": "cad5a98a-d35b-4b17-8107-ee97fa78e488"
      },
      "source": [
        "i=1    \n",
        "while(i<=5):    \n",
        "    print(i)    \n",
        "    i=i+1    \n",
        "    if(i==3):    \n",
        "        break   \n",
        "else:  \n",
        "    print(\"The while loop exhausted\")\n",
        "print(\"bye bye\")"
      ],
      "execution_count": null,
      "outputs": [
        {
          "output_type": "stream",
          "name": "stdout",
          "text": [
            "1\n",
            "2\n",
            "bye bye\n"
          ]
        }
      ]
    },
    {
      "cell_type": "code",
      "metadata": {
        "id": "nqTpzNRuYUxV",
        "colab": {
          "base_uri": "https://localhost:8080/"
        },
        "outputId": "6f98b155-5735-4afb-e773-6cc822549d2c"
      },
      "source": [
        "    list =[1,2,3,4]  \n",
        "    i=1;\n",
        "    count = 1;  \n",
        "    for i in list:  \n",
        "        if i == 4:  \n",
        "            print(\"item matched\")  \n",
        "            count = count + 1;  \n",
        "            break  \n",
        "    print(\"found at\",count,\"location\");"
      ],
      "execution_count": null,
      "outputs": [
        {
          "output_type": "stream",
          "name": "stdout",
          "text": [
            "item matched\n",
            "found at 2 location\n"
          ]
        }
      ]
    }
  ]
}